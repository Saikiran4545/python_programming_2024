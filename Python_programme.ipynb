{
  "nbformat": 4,
  "nbformat_minor": 0,
  "metadata": {
    "colab": {
      "provenance": [],
      "authorship_tag": "ABX9TyMxCGHah8ihOyPqFeVrlYKs",
      "include_colab_link": true
    },
    "kernelspec": {
      "name": "python3",
      "display_name": "Python 3"
    },
    "language_info": {
      "name": "python"
    }
  },
  "cells": [
    {
      "cell_type": "markdown",
      "metadata": {
        "id": "view-in-github",
        "colab_type": "text"
      },
      "source": [
        "<a href=\"https://colab.research.google.com/github/Saikiran4545/python_programming_2024/blob/main/Python_programme.ipynb\" target=\"_parent\"><img src=\"https://colab.research.google.com/assets/colab-badge.svg\" alt=\"Open In Colab\"/></a>"
      ]
    },
    {
      "cell_type": "code",
      "execution_count": null,
      "metadata": {
        "colab": {
          "base_uri": "https://localhost:8080/"
        },
        "id": "U3nwXEuNT0mN",
        "outputId": "08acf83b-787d-44e9-a9f6-de8d9a4feb9d"
      },
      "outputs": [
        {
          "output_type": "stream",
          "name": "stdout",
          "text": [
            "Welcome\n"
          ]
        }
      ],
      "source": [
        "# execution of python\n",
        "print(\"Welcome\")"
      ]
    },
    {
      "cell_type": "code",
      "source": [
        "#Programme No :- 1\n",
        "#addition of two numbers using C,Java and Python\n",
        "\n",
        "#Note: assume the inputs are 111 and 222\n",
        "\n",
        "a=111\n",
        "b=222\n",
        "c= a+b\n",
        "print (c)\n",
        "print(a+b)"
      ],
      "metadata": {
        "colab": {
          "base_uri": "https://localhost:8080/"
        },
        "id": "THjxqvtkUFK8",
        "outputId": "dda4c355-f129-40fe-ab5f-5e6e30645fbd"
      },
      "execution_count": null,
      "outputs": [
        {
          "output_type": "stream",
          "name": "stdout",
          "text": [
            "333\n",
            "333\n"
          ]
        }
      ]
    },
    {
      "cell_type": "code",
      "source": [
        "#Programme No :- 2\n",
        "#addition of two numbers using C,Java and Python\n",
        "\n",
        "#Note: read data from the user\n",
        "\n",
        "a= int(input())\n",
        "b= int(input())\n",
        "print(a+b)\n",
        "\n",
        "#2nd version:\n",
        "\n",
        "print(int(input())+int(input()))\n"
      ],
      "metadata": {
        "colab": {
          "base_uri": "https://localhost:8080/"
        },
        "id": "3PC6upM8UjrT",
        "outputId": "012dba85-cd57-4db5-9032-b498fdf24f4c"
      },
      "execution_count": null,
      "outputs": [
        {
          "output_type": "stream",
          "name": "stdout",
          "text": [
            "111\n",
            "222\n",
            "333\n",
            "111\n",
            "222\n",
            "333\n"
          ]
        }
      ]
    },
    {
      "cell_type": "code",
      "source": [
        "#Programme No :- 3\n",
        "# Program to check whether the given number is even or odd number.\n",
        "\n",
        "# inputs ----------> a number from the user\n",
        "# output  ---------> even or odd or invalid\n",
        "# constraint ------> n>=0\n",
        "\n",
        "n= int(input())\n",
        "if n>0:\n",
        "   if n%2==0:\n",
        "    print(\"even\")\n",
        "   else:\n",
        "     print(\"odd\")\n",
        "else:\n",
        "  print(\"Invalid\")\n",
        "\n",
        "#2nd version\n",
        "\n",
        "n=int(input())\n",
        "print(\"invalid\" if n<0 else (\"even\" if n%2==0 else \"odd\"))\n"
      ],
      "metadata": {
        "colab": {
          "base_uri": "https://localhost:8080/"
        },
        "id": "j1YmMMPHVRET",
        "outputId": "a086852c-9604-42c0-dedc-dd7bb6ed40a5"
      },
      "execution_count": null,
      "outputs": [
        {
          "output_type": "stream",
          "name": "stdout",
          "text": [
            "15\n",
            "odd\n",
            "20\n",
            "even\n"
          ]
        }
      ]
    },
    {
      "cell_type": "code",
      "source": [
        "# #Programme No :- 4\n",
        "\n",
        "# Given an integer n, perform the following conditional actions,\n",
        "# if n is odd, print weird,\n",
        "# if n is even and in the inclusive range of 2 to 5, print Not Weird.\n",
        "# if n is even and in the inclusive range of 6 to 20, print Weird.\n",
        "# if n is even and greater than 20, print Not Weird.\n",
        "\n",
        "# input-----> a number from the user\n",
        "# contraint-> 1<=n<=100\n",
        "# output----> Weird or Not Weird\n",
        "\n",
        "n= int(input())\n",
        "if n>=1 and n<=100:\n",
        "   if n%2==1 :\n",
        "      print(\"weird\")\n",
        "   else:\n",
        "      if n>=2 and n<=5:\n",
        "        print(\"Not weird\")\n",
        "      elif n>=6 and n<=20:\n",
        "        print(\"Weird\")\n",
        "      else :\n",
        "        print(\"Not Weird\")\n",
        "\n",
        "\n",
        "\n"
      ],
      "metadata": {
        "colab": {
          "base_uri": "https://localhost:8080/"
        },
        "id": "0XF1VJhLX_L_",
        "outputId": "4d598e18-3aae-4044-a1dd-335801ef7a49"
      },
      "execution_count": null,
      "outputs": [
        {
          "output_type": "stream",
          "name": "stdout",
          "text": [
            "10\n",
            "Weird\n"
          ]
        }
      ]
    },
    {
      "cell_type": "code",
      "source": [
        "# # Problem: 5\n",
        "# # To check whether the given year is leap year or not.\n",
        "\n",
        "# # input------> year from the user\n",
        "# # constraint-> no constraint\n",
        "# # output-----> true or false\n",
        "\n",
        "# # Logic1: if any year is divisble by 4 then that year is said to leap year.\n",
        "# # Logic2: if a year is century year then check whether it is divisble by 400 or not.\n",
        "# # # Logic3: if a year is not century year then check it is divisible by 4 or not.\n",
        "\n",
        "# Logic:\n",
        "# ~~~~~~\n",
        "# 1. read year value from the user.\n",
        "# 2. if it is century yeadr & ivisible by 400 print true\n",
        "# 3. if it is not century year & divisible by 4 print true\n",
        "# 4. else print false\n",
        "\n",
        "year=int(input())\n",
        "if (year%400==0) or (year%4==0 and year%100!=0):\n",
        "  print(\"True\")\n",
        "else :\n",
        "  print(\"False\")"
      ],
      "metadata": {
        "colab": {
          "base_uri": "https://localhost:8080/"
        },
        "id": "p1Xi8J6Pdzu1",
        "outputId": "93043fab-bdb1-4621-e7ec-514626920121"
      },
      "execution_count": null,
      "outputs": [
        {
          "output_type": "stream",
          "name": "stdout",
          "text": [
            "2024\n",
            "True\n"
          ]
        }
      ]
    },
    {
      "cell_type": "code",
      "source": [
        "# problem:6\n",
        "# The e-commerce company Bookshelf wishes to analyse its monthly sales data between minimum range 30 to max range 100.\n",
        "# The company has categorized these book sales into four groups depending on the number of sales with the help of these groups the company will know which stock they should increase or decrease in their inventory for the next month.\n",
        "# the groups are as follows\n",
        "\n",
        "# sales range\t\tgroups\n",
        "# ================================\n",
        "# 30-50 ------------------> D\n",
        "# 51-60 ------------------> C\n",
        "# 61-80 ------------------> B\n",
        "# 81-100 -----------------> A\n",
        "\n",
        "# write an alg to find the group for the given book sale count.\n",
        "\n",
        "# input--------> an integer salesCount represent total sales of a book\n",
        "# output-------> a character representing the group of given sale count\n",
        "# constraint---> 30<=saleCount<=100\n",
        "\n",
        "# Logic:\n",
        "# ~~~~~~\n",
        "# 1. read saleCount as n.\n",
        "# 2. check whether n is in between 30 to 50 inclusive (<=) print D\n",
        "# 3. check whether n is in between 51 to 60 inclusive (<=) print C\n",
        "# 4. check whether n is in between 61 to 80 inclusive (<=) print B\n",
        "# 5. else print A\n",
        "\n",
        "n=int(input())\n",
        "if n>=30 and n<=100:\n",
        "  if n>=30 and n<=50:\n",
        "    print (\"D\")\n",
        "  elif n>=51 and n<=60:\n",
        "    print(\"C\")\n",
        "  elif n>=61 and n<=80:\n",
        "    print(\"B\")\n",
        "  else:\n",
        "    print(\"A\")\n",
        "else:\n",
        "  print(\"Invalid\")\n",
        "\n",
        "\n"
      ],
      "metadata": {
        "id": "NNhyPobooc7r",
        "colab": {
          "base_uri": "https://localhost:8080/"
        },
        "outputId": "95d9e42b-f33e-49b1-888f-9a6ad19ed340"
      },
      "execution_count": 3,
      "outputs": [
        {
          "output_type": "stream",
          "name": "stdout",
          "text": [
            "200\n",
            "Invalid\n"
          ]
        }
      ]
    },
    {
      "cell_type": "code",
      "source": [
        "# # Problem 7:\n",
        "# # Return the Next Number from the Integer Passed\n",
        "\n",
        "# # implement a program that takes a number as an argument, increments the number by +1 and returns the result\n",
        "\n",
        "# # input ----------> a number from the user\n",
        "# # constraints-----> no constraints\n",
        "# # output ---------> an incremented value\n",
        "\n",
        "# Logic:\n",
        "# ~~~~~~\n",
        "# 1. read n value from the user.\n",
        "# 2. increase its value by one unit.\n",
        "# 3. print the result.\n",
        "\n",
        "n = int (input())\n",
        "print(n+1)\n",
        "\n",
        "print(int(input())+1)\n"
      ],
      "metadata": {
        "colab": {
          "base_uri": "https://localhost:8080/"
        },
        "id": "-chW2um9IsNJ",
        "outputId": "8e891c98-dd4d-46f2-d9e3-885b1d6951ce"
      },
      "execution_count": 6,
      "outputs": [
        {
          "output_type": "stream",
          "name": "stdout",
          "text": [
            "10\n",
            "11\n",
            "20\n",
            "21\n"
          ]
        }
      ]
    },
    {
      "cell_type": "code",
      "source": [
        "#Problem 8\n",
        "\n",
        "# Free Coffee Cups\n",
        "\n",
        "# For each of the 6 coffee cups I buy,I get a 7th cup free. In total, I get 7 cups.\n",
        "\n",
        "# Implement a program that takes n cups bought and print as an integer the total number of cups I would get.\n",
        "\n",
        "# input -------------> n number of cups from user\n",
        "# constraints -------> n>0\n",
        "# output ------------> number of cups present have\n",
        "\n",
        "# 1 -----> 1\n",
        "# 2 -----> 2\n",
        "# 5 -----> 5\n",
        "# 6 -----> 6+1 --> 7\n",
        "# 7 -----> 7+1 --> 8\n",
        "# 11 ----> 11+1 -> 12\n",
        "# 12 ----> 12+2 -> 14\n",
        "\n",
        "# Logic:\n",
        "# ~~~~~\n",
        "# number of cups bought + free cups\n",
        "\n",
        "# [n/6] ====> n+(n/6)\n",
        "\n",
        "n= int(input())\n",
        "print(n+(n/6))\n"
      ],
      "metadata": {
        "colab": {
          "base_uri": "https://localhost:8080/"
        },
        "id": "qRGTIXYUKdUD",
        "outputId": "38ff0d46-513c-4eeb-dc97-5e28bcd23b08"
      },
      "execution_count": 8,
      "outputs": [
        {
          "output_type": "stream",
          "name": "stdout",
          "text": [
            "12\n",
            "14.0\n"
          ]
        }
      ]
    },
    {
      "cell_type": "code",
      "source": [
        "#Problem :9\n",
        "# Extract Digits from the number\n",
        "\n",
        "# Implement a program to extract digits from the given number\n",
        "\n",
        "# input -------------> a number from the user\n",
        "# constraint --------> n>0\n",
        "# output ------------> print digits in line sep by space\n",
        "\n",
        "# 123 -----> 3 2 1\n",
        "# 1234 ----> 4 3 2 1\n",
        "# 789 -----> 9 8 7\n",
        "\n",
        "# Logic:\n",
        "# ~~~~~~\n",
        "# 1. read a number from the user as n.\n",
        "# 2. until n!=0\n",
        "# \t1. cal digit value by dividing the number with %10\n",
        "# \t2. print digit value\n",
        "# \t3. n=n/10\n",
        "\n",
        "n= int(input())\n",
        "while n!=0:\n",
        "  d=n%10\n",
        "  print(d, end= ' ')\n",
        "  n=n//10\n",
        "\n"
      ],
      "metadata": {
        "colab": {
          "base_uri": "https://localhost:8080/"
        },
        "id": "eIDSy4RWLyZ6",
        "outputId": "fe793555-1f05-4563-fb0f-fae7e3148969"
      },
      "execution_count": 11,
      "outputs": [
        {
          "output_type": "stream",
          "name": "stdout",
          "text": [
            "1234\n",
            "4 3 2 1 "
          ]
        }
      ]
    },
    {
      "cell_type": "code",
      "source": [
        "#2nd version\n",
        "\n",
        "s=input()\n",
        "for i in s[::-1]:\n",
        "    print(i,end=' ')"
      ],
      "metadata": {
        "colab": {
          "base_uri": "https://localhost:8080/"
        },
        "id": "Ov7EVo9WOlee",
        "outputId": "0b08c527-2ed3-4523-9f2f-c032f8b5d930"
      },
      "execution_count": 12,
      "outputs": [
        {
          "output_type": "stream",
          "name": "stdout",
          "text": [
            "1234\n",
            "4 3 2 1 "
          ]
        }
      ]
    },
    {
      "cell_type": "code",
      "source": [
        "# Problem :10\n",
        "# Sum of Digits\n",
        "\n",
        "# Implement a program to calculate sum of digits present in the given number\n",
        "\n",
        "# input -------------> a number from the user\n",
        "# constraint --------> n>0\n",
        "# output ------------> print sum of digits\n",
        "\n",
        "# Logic:\n",
        "# ~~~~~~\n",
        "# 1. read a number from the user as n.\n",
        "# 2. repeat until n!=0\n",
        "# \t2.1. extract digit from the number n ----> d=n%10\n",
        "# \t2.2. sum=sum+d\n",
        "# \t2.3. n=n/10\n",
        "# 123,12,1 ====> 3,2,1 ===> 0+3=3+2=5+1=6\n",
        "# 3. print the sum value.\n",
        "\n",
        "n = int(input())\n",
        "sum=0\n",
        "while n!=0:\n",
        "  d = n%10\n",
        "  sum = sum+d\n",
        "  n=n//10\n",
        "print(sum)"
      ],
      "metadata": {
        "colab": {
          "base_uri": "https://localhost:8080/"
        },
        "id": "Kr11_MHzPPxH",
        "outputId": "cc24f2c0-0ffa-41c9-a9ca-d57d70dacd83"
      },
      "execution_count": 16,
      "outputs": [
        {
          "output_type": "stream",
          "name": "stdout",
          "text": [
            "123\n",
            "6\n"
          ]
        }
      ]
    },
    {
      "cell_type": "code",
      "source": [
        "#solution 2\n",
        "n= int(input())\n",
        "s=0\n",
        "for i in str(n):      # int isnt iterate directly so we convert it int str\n",
        "    s= s+ int(i)\n",
        "print (s)"
      ],
      "metadata": {
        "colab": {
          "base_uri": "https://localhost:8080/"
        },
        "id": "ApLqwGArQlCG",
        "outputId": "bb5431b5-5f17-4e7d-92d2-0ba945751384"
      },
      "execution_count": 19,
      "outputs": [
        {
          "output_type": "stream",
          "name": "stdout",
          "text": [
            "123\n",
            "6\n"
          ]
        }
      ]
    },
    {
      "cell_type": "code",
      "source": [
        "#Problem :-11\n",
        "# Implement a program to calculate sum of even digits present in the given number\n",
        "\n",
        "# input -------------> a number from the user\n",
        "# constraint --------> n>0\n",
        "# output ------------> print sum of even digits\n",
        "\n",
        "# Logic:\n",
        "# ~~~~~~\n",
        "# 1. read a number from the user as n.\n",
        "# 2. repeat until n!=0\n",
        "# \t2.1. extract digits from the user as d.\n",
        "# \t2.2. if n is even then add to sum else not\n",
        "# \t2.3. n=n/10\n",
        "# 3. print s value\n",
        "\n",
        "n= int (input())\n",
        "s=0\n",
        "while n!=0:\n",
        "  d=n%10\n",
        "  if d%2==0:\n",
        "     s=s+d\n",
        "  n=n//10\n",
        "print(s)\n",
        "\n",
        "\n"
      ],
      "metadata": {
        "colab": {
          "base_uri": "https://localhost:8080/"
        },
        "id": "qXvcc5c6S0TS",
        "outputId": "f60e2afa-c079-4af9-c5ac-1e9e849ea162"
      },
      "execution_count": 27,
      "outputs": [
        {
          "output_type": "stream",
          "name": "stdout",
          "text": [
            "12345\n",
            "6\n"
          ]
        }
      ]
    },
    {
      "cell_type": "code",
      "source": [
        "# #Problem :-11\n",
        "# Sum of odd Digits\n",
        "\n",
        "# Implement a program to calculate sum of odd digits present in the given number\n",
        "\n",
        "# input -------------> a number from the user constraint --------> n>0 output ------------> print sum of odd digits\n",
        "\n",
        "# Logic: ~\n",
        "\n",
        "# read a number from the user as n.\n",
        "# repeat until n!=0 2.1. extract digits from the user as d. 2.2. if n is odd then add to sum else not %2==1 2.3. n=n/10\n",
        "# print s value\n",
        "\n",
        "n= int(input())\n",
        "s=0\n",
        "while n!=0:\n",
        "  d=n%10\n",
        "  if d%2==1:\n",
        "    s= s+d\n",
        "  n=n//10\n",
        "print(s)\n",
        "\n",
        "\n"
      ],
      "metadata": {
        "colab": {
          "base_uri": "https://localhost:8080/"
        },
        "id": "8Lnm8jQLVR6R",
        "outputId": "294a5273-266c-4155-d8e3-1bcc629c27aa"
      },
      "execution_count": 32,
      "outputs": [
        {
          "output_type": "stream",
          "name": "stdout",
          "text": [
            "12345\n",
            "9\n"
          ]
        }
      ]
    },
    {
      "cell_type": "code",
      "source": [
        "#Programme:= 12\n",
        "# Sum of prime Digits\n",
        "\n",
        "# Implement a program to calculate sum of prime digits present in the given number\n",
        "\n",
        "# input -------------> a number from the user\n",
        "# constraint --------> n>0\n",
        "# output ------------> print sum of prime digits\n",
        "\n",
        "\n",
        "# single digit prime numbers ----> 2,3,5,7\n",
        "\n",
        "# Logic:\n",
        "# ~~~~~~\n",
        "# 1. read a number from the user as n.\n",
        "# 2. repeat until n!=0\n",
        "# \t2.1. extract digits from the user as d.\n",
        "# \t2.2. if d is 2 or 3 or 5 or 7, then add digit to the sum\n",
        "# \t2.3. n=n/10\n",
        "# 3. print s value\n",
        "\n",
        "n= int(input())\n",
        "s=0\n",
        "while n!=0:\n",
        "  d=n%10\n",
        "  if d in (2,3,5,7):\n",
        "    s= s+d\n",
        "  n= n//10\n",
        "print (s)\n"
      ],
      "metadata": {
        "colab": {
          "base_uri": "https://localhost:8080/"
        },
        "id": "f0hfVDi-YpZf",
        "outputId": "4a8da443-7341-4d99-9df0-567c1bb71f82"
      },
      "execution_count": 35,
      "outputs": [
        {
          "output_type": "stream",
          "name": "stdout",
          "text": [
            "1234567\n",
            "17\n"
          ]
        }
      ]
    },
    {
      "cell_type": "code",
      "source": [
        "#Programme :-13\n",
        "# Sum of Digits  divisible by 3\n",
        "\n",
        "# Implement a program to calculate sum of digits that are divisible by 3 in the given number\n",
        "\n",
        "# input -------------> a number from the user\n",
        "# constraint --------> n>0\n",
        "# output ------------> print sum of digits that are divisible by 3\n",
        "\n",
        "# Logic:\n",
        "# ~~~~~~\n",
        "# 1. read a number from the user as n.\n",
        "# 2. repeat until n!=0\n",
        "# \t2.1. extract digits from the user as d.\n",
        "# \t2.2. if d is 3 or 6 or 9 ,then add digit to the sum\n",
        "# \t2.3. n=n/10\n",
        "# 3. print s value\n",
        "\n",
        "n= int (input())\n",
        "s=0\n",
        "while n!=0:\n",
        "  d=n%10\n",
        "  if d in (3,6,9):\n",
        "     s= s+d\n",
        "  n = n//10\n",
        "print(s)"
      ],
      "metadata": {
        "colab": {
          "base_uri": "https://localhost:8080/"
        },
        "id": "pgz6KHiDafTM",
        "outputId": "78e286ef-9b8a-4cf0-9bdc-d26601bde6ac"
      },
      "execution_count": 37,
      "outputs": [
        {
          "output_type": "stream",
          "name": "stdout",
          "text": [
            "135689\n",
            "18\n"
          ]
        }
      ]
    },
    {
      "cell_type": "code",
      "source": [
        "# Programme :-14\n",
        "# Number of digits\n",
        "\n",
        "# Implement a program to calculate number of digits in the given number\n",
        "\n",
        "# input -------------> a number from the user\n",
        "# constraint --------> n>0\n",
        "# output ------------> print number of digits in the number\n",
        "\n",
        "# Logic:\n",
        "# ~~~~~~\n",
        "# 1. read a number from the user as n.\n",
        "# 2. repeat until n!=0\n",
        "# \t2.1. extract digits from the user as d.\n",
        "# \t2.2. increment the value of counter\n",
        "# \t2.3. n=n/10\n",
        "# 3. print s value\n",
        "\n",
        "n = (input())\n",
        "print(len(n))"
      ],
      "metadata": {
        "colab": {
          "base_uri": "https://localhost:8080/"
        },
        "id": "WfqHhooNZgvV",
        "outputId": "2ce301d2-3532-45ad-f7bf-d60dd3ab6694"
      },
      "execution_count": 39,
      "outputs": [
        {
          "output_type": "stream",
          "name": "stdout",
          "text": [
            "123456789\n",
            "9\n"
          ]
        }
      ]
    },
    {
      "cell_type": "code",
      "source": [
        "# Programme 15\n",
        "# Reverse Integer\n",
        "\n",
        "# Given an integer x, return x with its digits reversed.\n",
        "\n",
        "# input---------> a number from user\n",
        "# constraint ---> n>=0\n",
        "# output -------> reverse of the given number\n",
        "\n",
        "\n",
        "# 123 ----> 321\n",
        "\n",
        "# 3 ------> 3*100 = 300\n",
        "# 2 ------> 2*10  =  20\n",
        "# 1 ------> 1*1   =   1\n",
        "# ======================\n",
        "#                   321\n",
        "# ======================\n",
        "# Logic:\n",
        "# ~~~~~~\n",
        "# 1. read a number from the user.\n",
        "# 2. while n!=0\n",
        "#    2.1. extract digits one by one d=n%10\n",
        "#    2.2. r=r*10+d\n",
        "#    2.3. n=n/10\n",
        "# 3. print r value\n",
        "\n",
        "n = int(input())\n",
        "r=0\n",
        "while n!=0:\n",
        "  d= n%10\n",
        "  r= r*10+d\n",
        "  n=n//10\n",
        "print(r)\n"
      ],
      "metadata": {
        "colab": {
          "base_uri": "https://localhost:8080/"
        },
        "id": "hQbqQ31wb1tD",
        "outputId": "5e5deaed-f3f0-477d-e8a0-24e93828ba80"
      },
      "execution_count": 42,
      "outputs": [
        {
          "output_type": "stream",
          "name": "stdout",
          "text": [
            "123\n",
            "321\n"
          ]
        }
      ]
    },
    {
      "cell_type": "code",
      "source": [],
      "metadata": {
        "id": "l1rqanybgyxz"
      },
      "execution_count": null,
      "outputs": []
    }
  ]
}