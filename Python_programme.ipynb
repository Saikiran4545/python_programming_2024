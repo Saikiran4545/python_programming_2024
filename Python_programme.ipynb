{
  "nbformat": 4,
  "nbformat_minor": 0,
  "metadata": {
    "colab": {
      "provenance": [],
      "authorship_tag": "ABX9TyNNzek962UfGwNqnx/pJ97/",
      "include_colab_link": true
    },
    "kernelspec": {
      "name": "python3",
      "display_name": "Python 3"
    },
    "language_info": {
      "name": "python"
    }
  },
  "cells": [
    {
      "cell_type": "markdown",
      "metadata": {
        "id": "view-in-github",
        "colab_type": "text"
      },
      "source": [
        "<a href=\"https://colab.research.google.com/github/Saikiran4545/python_programming_2024/blob/main/Python_programme.ipynb\" target=\"_parent\"><img src=\"https://colab.research.google.com/assets/colab-badge.svg\" alt=\"Open In Colab\"/></a>"
      ]
    },
    {
      "cell_type": "code",
      "execution_count": 1,
      "metadata": {
        "colab": {
          "base_uri": "https://localhost:8080/"
        },
        "id": "U3nwXEuNT0mN",
        "outputId": "08acf83b-787d-44e9-a9f6-de8d9a4feb9d"
      },
      "outputs": [
        {
          "output_type": "stream",
          "name": "stdout",
          "text": [
            "Welcome\n"
          ]
        }
      ],
      "source": [
        "# execution of python\n",
        "print(\"Welcome\")"
      ]
    },
    {
      "cell_type": "code",
      "source": [
        "#Programme No :- 1\n",
        "#addition of two numbers using C,Java and Python\n",
        "\n",
        "#Note: assume the inputs are 111 and 222\n",
        "\n",
        "a=111\n",
        "b=222\n",
        "c= a+b\n",
        "print (c)\n",
        "print(a+b)"
      ],
      "metadata": {
        "colab": {
          "base_uri": "https://localhost:8080/"
        },
        "id": "THjxqvtkUFK8",
        "outputId": "dda4c355-f129-40fe-ab5f-5e6e30645fbd"
      },
      "execution_count": 2,
      "outputs": [
        {
          "output_type": "stream",
          "name": "stdout",
          "text": [
            "333\n",
            "333\n"
          ]
        }
      ]
    },
    {
      "cell_type": "code",
      "source": [
        "#Programme No :- 2\n",
        "#addition of two numbers using C,Java and Python\n",
        "\n",
        "#Note: read data from the user\n",
        "\n",
        "a= int(input())\n",
        "b= int(input())\n",
        "print(a+b)\n",
        "\n",
        "#2nd version:\n",
        "\n",
        "print(int(input())+int(input()))\n"
      ],
      "metadata": {
        "colab": {
          "base_uri": "https://localhost:8080/"
        },
        "id": "3PC6upM8UjrT",
        "outputId": "012dba85-cd57-4db5-9032-b498fdf24f4c"
      },
      "execution_count": 6,
      "outputs": [
        {
          "output_type": "stream",
          "name": "stdout",
          "text": [
            "111\n",
            "222\n",
            "333\n",
            "111\n",
            "222\n",
            "333\n"
          ]
        }
      ]
    },
    {
      "cell_type": "code",
      "source": [
        "#Programme No :- 3\n",
        "# Program to check whether the given number is even or odd number.\n",
        "\n",
        "# inputs ----------> a number from the user\n",
        "# output  ---------> even or odd or invalid\n",
        "# constraint ------> n>=0\n",
        "\n",
        "n= int(input())\n",
        "if n>0:\n",
        "   if n%2==0:\n",
        "    print(\"even\")\n",
        "   else:\n",
        "     print(\"odd\")\n",
        "else:\n",
        "  print(\"Invalid\")\n",
        "\n",
        "#2nd version\n",
        "\n",
        "n=int(input())\n",
        "print(\"invalid\" if n<0 else (\"even\" if n%2==0 else \"odd\"))\n",
        ""
      ],
      "metadata": {
        "colab": {
          "base_uri": "https://localhost:8080/"
        },
        "id": "j1YmMMPHVRET",
        "outputId": "a086852c-9604-42c0-dedc-dd7bb6ed40a5"
      },
      "execution_count": 16,
      "outputs": [
        {
          "output_type": "stream",
          "name": "stdout",
          "text": [
            "15\n",
            "odd\n",
            "20\n",
            "even\n"
          ]
        }
      ]
    },
    {
      "cell_type": "code",
      "source": [
        "# #Programme No :- 4\n",
        "\n",
        "# Given an integer n, perform the following conditional actions,\n",
        "# if n is odd, print weird,\n",
        "# if n is even and in the inclusive range of 2 to 5, print Not Weird.\n",
        "# if n is even and in the inclusive range of 6 to 20, print Weird.\n",
        "# if n is even and greater than 20, print Not Weird.\n",
        "\n",
        "# input-----> a number from the user\n",
        "# contraint-> 1<=n<=100\n",
        "# output----> Weird or Not Weird\n",
        "\n",
        "n= int(input())\n",
        "if n>=1 and n<=100:\n",
        "   if n%2==1 :\n",
        "      print(\"weird\")\n",
        "   else:\n",
        "      if n>=2 and n<=5:\n",
        "        print(\"Not weird\")\n",
        "      elif n>=6 and n<=20:\n",
        "        print(\"Weird\")\n",
        "      else :\n",
        "        print(\"Not Weird\")\n",
        "\n",
        "\n",
        "\n"
      ],
      "metadata": {
        "colab": {
          "base_uri": "https://localhost:8080/"
        },
        "id": "0XF1VJhLX_L_",
        "outputId": "4d598e18-3aae-4044-a1dd-335801ef7a49"
      },
      "execution_count": 19,
      "outputs": [
        {
          "output_type": "stream",
          "name": "stdout",
          "text": [
            "10\n",
            "Weird\n"
          ]
        }
      ]
    },
    {
      "cell_type": "code",
      "source": [
        "# # Problem: 5\n",
        "# # To check whether the given year is leap year or not.\n",
        "\n",
        "# # input------> year from the user\n",
        "# # constraint-> no constraint\n",
        "# # output-----> true or false\n",
        "\n",
        "# # Logic1: if any year is divisble by 4 then that year is said to leap year.\n",
        "# # Logic2: if a year is century year then check whether it is divisble by 400 or not.\n",
        "# # # Logic3: if a year is not century year then check it is divisible by 4 or not.\n",
        "\n",
        "# Logic:\n",
        "# ~~~~~~\n",
        "# 1. read year value from the user.\n",
        "# 2. if it is century yeadr & ivisible by 400 print true\n",
        "# 3. if it is not century year & divisible by 4 print true\n",
        "# 4. else print false\n",
        "\n",
        "year=int(input())\n",
        "if (year%400==0) or (year%4==0 and year%100!=0):\n",
        "  print(\"True\")\n",
        "else :\n",
        "  print(\"False\")"
      ],
      "metadata": {
        "colab": {
          "base_uri": "https://localhost:8080/"
        },
        "id": "p1Xi8J6Pdzu1",
        "outputId": "93043fab-bdb1-4621-e7ec-514626920121"
      },
      "execution_count": 22,
      "outputs": [
        {
          "output_type": "stream",
          "name": "stdout",
          "text": [
            "2024\n",
            "True\n"
          ]
        }
      ]
    },
    {
      "cell_type": "code",
      "source": [],
      "metadata": {
        "id": "NNhyPobooc7r"
      },
      "execution_count": null,
      "outputs": []
    }
  ]
}